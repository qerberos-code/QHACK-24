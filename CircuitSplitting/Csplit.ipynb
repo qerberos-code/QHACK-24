{
 "cells": [
  {
   "cell_type": "code",
   "execution_count": 18,
   "metadata": {},
   "outputs": [],
   "source": [
    "import qiskit\n",
    "from qiskit.circuit.library import QFT\n",
    "from circuit_knitting.cutting.cutqc import cut_circuit_wires\n",
    "import mitiq\n",
    "from qiskit.qasm2 import dumps\n",
    "from qiskit.providers.fake_provider.backends_v1 import Fake20QV1\n"
   ]
  },
  {
   "cell_type": "code",
   "execution_count": 15,
   "metadata": {},
   "outputs": [
    {
     "data": {
      "text/html": [
       "<pre style=\"word-wrap: normal;white-space: pre;background: #fff0;line-height: 1.1;font-family: &quot;Courier New&quot;,Courier,monospace\">                                                                          ┌───┐»\n",
       "q_0: ──────────────────────────────────────■─────────────■────────■───────┤ H ├»\n",
       "                                           │       ┌───┐ │        │P(π/2) └───┘»\n",
       "q_1: ────────────────────■────────■────────┼───────┤ H ├─┼────────■─────────X──»\n",
       "                   ┌───┐ │        │P(π/2)  │       └───┘ │P(π/4)            │  »\n",
       "q_2: ──────■───────┤ H ├─┼────────■────────┼─────────────■──────────────────X──»\n",
       "     ┌───┐ │P(π/2) └───┘ │P(π/4)           │P(π/8)                             »\n",
       "q_3: ┤ H ├─■─────────────■─────────────────■───────────────────────────────────»\n",
       "     └───┘                                                                     »\n",
       "«        \n",
       "«q_0: ─X─\n",
       "«      │ \n",
       "«q_1: ─┼─\n",
       "«      │ \n",
       "«q_2: ─┼─\n",
       "«      │ \n",
       "«q_3: ─X─\n",
       "«        </pre>"
      ],
      "text/plain": [
       "                                                                          ┌───┐»\n",
       "q_0: ──────────────────────────────────────■─────────────■────────■───────┤ H ├»\n",
       "                                           │       ┌───┐ │        │P(π/2) └───┘»\n",
       "q_1: ────────────────────■────────■────────┼───────┤ H ├─┼────────■─────────X──»\n",
       "                   ┌───┐ │        │P(π/2)  │       └───┘ │P(π/4)            │  »\n",
       "q_2: ──────■───────┤ H ├─┼────────■────────┼─────────────■──────────────────X──»\n",
       "     ┌───┐ │P(π/2) └───┘ │P(π/4)           │P(π/8)                             »\n",
       "q_3: ┤ H ├─■─────────────■─────────────────■───────────────────────────────────»\n",
       "     └───┘                                                                     »\n",
       "«        \n",
       "«q_0: ─X─\n",
       "«      │ \n",
       "«q_1: ─┼─\n",
       "«      │ \n",
       "«q_2: ─┼─\n",
       "«      │ \n",
       "«q_3: ─X─\n",
       "«        "
      ]
     },
     "execution_count": 15,
     "metadata": {},
     "output_type": "execute_result"
    }
   ],
   "source": [
    "qf = QFT(4)\n",
    "qf = qf.decompose()\n",
    "qf.draw()\n"
   ]
  },
  {
   "cell_type": "code",
   "execution_count": 3,
   "metadata": {},
   "outputs": [
    {
     "name": "stdout",
     "output_type": "stream",
     "text": [
      "Exporting as a LP file to let you check the model that will be solved :  inf <class 'float'>\n",
      "Version identifier: 22.1.1.0 | 2023-02-11 | 22d6266e5\n",
      "CPXPARAM_Read_DataCheck                          1\n",
      "CPXPARAM_TimeLimit                               300\n",
      "Warning:  Non-integral bounds for integer variables rounded.\n",
      "Tried aggregator 3 times.\n",
      "MIP Presolve eliminated 37 rows and 8 columns.\n",
      "MIP Presolve modified 7 coefficients.\n",
      "Aggregator did 65 substitutions.\n",
      "Reduced MIP has 206 rows, 73 columns, and 600 nonzeros.\n",
      "Reduced MIP has 67 binaries, 6 generals, 0 SOSs, and 0 indicators.\n",
      "Presolve time = 0.01 sec. (1.29 ticks)\n",
      "Found incumbent of value 2.000000 after 0.01 sec. (1.39 ticks)\n",
      "Probing fixed 24 vars, tightened 3 bounds.\n",
      "Probing changed sense of 32 constraints.\n",
      "Probing time = 0.00 sec. (0.82 ticks)\n",
      "Cover probing fixed 4 vars, tightened 18 bounds.\n",
      "Tried aggregator 2 times.\n",
      "MIP Presolve eliminated 185 rows and 49 columns.\n",
      "MIP Presolve modified 13 coefficients.\n",
      "Aggregator did 13 substitutions.\n",
      "Reduced MIP has 8 rows, 11 columns, and 35 nonzeros.\n",
      "Reduced MIP has 7 binaries, 4 generals, 0 SOSs, and 0 indicators.\n",
      "Presolve time = 0.00 sec. (0.35 ticks)\n",
      "Probing fixed 0 vars, tightened 2 bounds.\n",
      "Probing time = 0.00 sec. (0.01 ticks)\n",
      "Cover probing fixed 1 vars, tightened 3 bounds.\n",
      "Tried aggregator 2 times.\n",
      "MIP Presolve eliminated 4 rows and 4 columns.\n",
      "MIP Presolve modified 7 coefficients.\n",
      "Aggregator did 1 substitutions.\n",
      "Reduced MIP has 3 rows, 5 columns, and 9 nonzeros.\n",
      "Reduced MIP has 5 binaries, 0 generals, 0 SOSs, and 0 indicators.\n",
      "Presolve time = 0.00 sec. (0.02 ticks)\n",
      "Probing time = 0.00 sec. (0.00 ticks)\n",
      "Tried aggregator 2 times.\n",
      "MIP Presolve eliminated 3 rows and 5 columns.\n",
      "MIP Presolve added 1 rows and 1 columns.\n",
      "Aggregator did 1 substitutions.\n",
      "All rows and columns eliminated.\n",
      "Presolve time = 0.00 sec. (0.01 ticks)\n",
      "\n",
      "Root node processing (before b&c):\n",
      "  Real time             =    0.02 sec. (2.73 ticks)\n",
      "Parallel b&c, 6 threads:\n",
      "  Real time             =    0.00 sec. (0.00 ticks)\n",
      "  Sync time (average)   =    0.00 sec.\n",
      "  Wait time (average)   =    0.00 sec.\n",
      "                          ------------\n",
      "Total (root+branch&cut) =    0.02 sec. (2.73 ticks)\n",
      "--------------------\n",
      "num_cuts = 2\n",
      "subcircuit 0\n",
      "ρ qubits = 0, O qubits = 2, width = 2, effective = 0, depth = 3, size = 3\n",
      "                   ┌───┐\n",
      "q_0: ──────■───────┤ H ├\n",
      "     ┌───┐ │P(π/2) └───┘\n",
      "q_1: ┤ H ├─■────────────\n",
      "     └───┘              \n",
      "subcircuit 1\n",
      "ρ qubits = 2, O qubits = 0, width = 4, effective = 4, depth = 6, size = 9\n",
      "                                                       ┌───┐   \n",
      "q_0: ───────────────────■─────────────■────────■───────┤ H ├─X─\n",
      "                        │       ┌───┐ │        │P(π/2) └───┘ │ \n",
      "q_1: ─■────────■────────┼───────┤ H ├─┼────────■─────────X───┼─\n",
      "      │        │P(π/2)  │       └───┘ │P(π/4)            │   │ \n",
      "q_2: ─┼────────■────────┼─────────────■──────────────────X───┼─\n",
      "      │P(π/4)           │P(π/8)                              │ \n",
      "q_3: ─■─────────────────■────────────────────────────────────X─\n",
      "                                                               \n",
      "Estimated cost = 2.560e+02\n",
      "Model objective value = 2.00e+00\n",
      "MIP runtime: 0.027868032455444336\n",
      "NOT OPTIMAL, MIP gap = 0.0\n",
      "--------------------\n"
     ]
    }
   ],
   "source": [
    "cuts = cut_circuit_wires(\n",
    "    circuit=qf,\n",
    "    method=\"automatic\",\n",
    "    max_subcircuit_width=5,\n",
    "    max_cuts=2,\n",
    "    num_subcircuits=[2],\n",
    ")\n",
    "\n"
   ]
  },
  {
   "cell_type": "code",
   "execution_count": 4,
   "metadata": {},
   "outputs": [
    {
     "data": {
      "text/html": [
       "<pre style=\"word-wrap: normal;white-space: pre;background: #fff0;line-height: 1.1;font-family: &quot;Courier New&quot;,Courier,monospace\">                                                       ┌───┐   \n",
       "q_0: ───────────────────■─────────────■────────■───────┤ H ├─X─\n",
       "                        │       ┌───┐ │        │P(π/2) └───┘ │ \n",
       "q_1: ─■────────■────────┼───────┤ H ├─┼────────■─────────X───┼─\n",
       "      │        │P(π/2)  │       └───┘ │P(π/4)            │   │ \n",
       "q_2: ─┼────────■────────┼─────────────■──────────────────X───┼─\n",
       "      │P(π/4)           │P(π/8)                              │ \n",
       "q_3: ─■─────────────────■────────────────────────────────────X─\n",
       "                                                               </pre>"
      ],
      "text/plain": [
       "                                                       ┌───┐   \n",
       "q_0: ───────────────────■─────────────■────────■───────┤ H ├─X─\n",
       "                        │       ┌───┐ │        │P(π/2) └───┘ │ \n",
       "q_1: ─■────────■────────┼───────┤ H ├─┼────────■─────────X───┼─\n",
       "      │        │P(π/2)  │       └───┘ │P(π/4)            │   │ \n",
       "q_2: ─┼────────■────────┼─────────────■──────────────────X───┼─\n",
       "      │P(π/4)           │P(π/8)                              │ \n",
       "q_3: ─■─────────────────■────────────────────────────────────X─\n",
       "                                                               "
      ]
     },
     "execution_count": 4,
     "metadata": {},
     "output_type": "execute_result"
    }
   ],
   "source": [
    "cuts['subcircuits'][1].draw()"
   ]
  },
  {
   "cell_type": "code",
   "execution_count": 24,
   "metadata": {},
   "outputs": [
    {
     "data": {
      "text/plain": [
       "True"
      ]
     },
     "execution_count": 24,
     "metadata": {},
     "output_type": "execute_result"
    }
   ],
   "source": [
    "from cirq.contrib.qasm_import import circuit_from_qasm\n",
    "qf = qiskit.QuantumCircuit(4)\n",
    "qf.h(0)\n",
    "qf.cx(0,1)\n",
    "qf.cx(1,2)\n",
    "qf.cx(2,3)\n",
    "qf.measure_all()\n",
    "def is_circuit_clifford(circuit, skip_transpile = False):\n",
    "    if not skip_transpile:\n",
    "        rb = qiskit.transpiler.passes.RemoveBarriers()\n",
    "        circuit = qiskit.transpile(circuit, backend=Fake20QV1())\n",
    "        \n",
    "        circuit = rb(circuit)\n",
    "    cqasm = dumps(circuit)\n",
    "    circuit = circuit_from_qasm(cqasm)\n",
    "    return mitiq.cdr.clifford_utils.is_clifford(circuit)\n",
    "\n",
    "is_circuit_clifford(qf)"
   ]
  }
 ],
 "metadata": {
  "kernelspec": {
   "display_name": "qhack24",
   "language": "python",
   "name": "python3"
  },
  "language_info": {
   "codemirror_mode": {
    "name": "ipython",
    "version": 3
   },
   "file_extension": ".py",
   "mimetype": "text/x-python",
   "name": "python",
   "nbconvert_exporter": "python",
   "pygments_lexer": "ipython3",
   "version": "3.9.18"
  }
 },
 "nbformat": 4,
 "nbformat_minor": 2
}
